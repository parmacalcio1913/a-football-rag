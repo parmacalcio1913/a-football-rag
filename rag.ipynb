{
 "cells": [
  {
   "cell_type": "markdown",
   "id": "4ffdabab",
   "metadata": {},
   "source": [
    "# RAG system based on football articles"
   ]
  },
  {
   "cell_type": "code",
   "execution_count": 1,
   "id": "8015c764",
   "metadata": {},
   "outputs": [],
   "source": [
    "from openai import OpenAI\n",
    "from dotenv import load_dotenv\n",
    "import os\n",
    "\n",
    "load_dotenv()\n",
    "OPEN_AI_API_KEY = os.getenv(\"OPEN_AI_API_KEY\")\n",
    "OPEN_AI_MODEL = os.getenv(\"OPEN_AI_MODEL\")\n",
    "\n",
    "# instantiate the openAI client\n",
    "client = OpenAI(api_key=OPEN_AI_API_KEY)"
   ]
  },
  {
   "cell_type": "markdown",
   "id": "01ad72db",
   "metadata": {},
   "source": [
    "## Creation of the knowledge base\n",
    "We first need to upload our file, specifying its purpose. The file can then be used across various endpoints.\n",
    "\n",
    "Once the file is uploaded, it should be added to a [Vector Store](https://platform.openai.com/docs/api-reference/vector-stores), where it gets broken into smaller chunks. The chunked-up file consitutes the knowledge base of our RAG system."
   ]
  },
  {
   "cell_type": "code",
   "execution_count": 2,
   "id": "398ffa8c",
   "metadata": {},
   "outputs": [],
   "source": [
    "def upload_file_to_vector_store(path):\n",
    "    # upload a file with an \"assistants\" purpose\n",
    "    file = client.files.create(file=open(path, \"rb\"), purpose=\"assistants\")\n",
    "    # create a vector store\n",
    "    vector_store = client.vector_stores.create(\n",
    "        name=\"Some Fake Football Articles\"\n",
    "    )\n",
    "    # add the file to the vector store just created\n",
    "    client.vector_stores.files.create(\n",
    "        vector_store_id=vector_store.id,\n",
    "        file_id=file.id\n",
    "    )\n",
    "\n",
    "    # return the vector store (we'll need the ID)\n",
    "    return vector_store\n",
    "\n",
    "vector_store = upload_file_to_vector_store(\"data/fake_football_articles.json\")"
   ]
  },
  {
   "cell_type": "markdown",
   "id": "280706a9",
   "metadata": {},
   "source": [
    "## Build a very simple Q&A flow"
   ]
  },
  {
   "cell_type": "markdown",
   "id": "7bcdb672",
   "metadata": {},
   "source": [
    "Once our knowledge base is created, we can start interacting with our RAG, using the [Responses API](https://platform.openai.com/docs/api-reference/responses).\n",
    "\n",
    "The function `generate_response()` receives a prompt from the user as a parameter, and returns an answer using the [model](https://platform.openai.com/docs/models) specified in the `.env` file based on the knowledge base just created.\n",
    "\n",
    "It does so by using `OpenAI.responses.create()` ([official docs](https://platform.openai.com/docs/api-reference/responses/create)). This function can be extended to:\n",
    "- set how many chunks are used for the response with the `max_num_results` in the `file_search` tool. Setting it to a lower number may prevent hallucinations.\n",
    "- add support for web search by specifying a new tool type called `web_search_preview`.\n",
    "- specify additional output data to include in the model response with the `include` parameter. For example, `include=[\"output[*].file_search_call.search_results\"]` will show what chunks were used to generate the answer and what confidence score was given to a particular chunk."
   ]
  },
  {
   "cell_type": "code",
   "execution_count": 3,
   "id": "bbf89084",
   "metadata": {},
   "outputs": [],
   "source": [
    "def generate_response(prompt):\n",
    "    response = client.responses.create(\n",
    "        model=OPEN_AI_MODEL,\n",
    "        input=prompt,\n",
    "        instructions=\"You need to perform a file search of the provided document, and summarise all the articles you can find about the player provided by the user, if there's any (otherwise, simply say 'No articles on the provided player'). Focus on strengths and weaknesses, as well as the evolution of the judgement over time in case of multiple articles.\",\n",
    "        tools=[\n",
    "            {\n",
    "                \"type\": \"file_search\",\n",
    "                \"vector_store_ids\": [vector_store.id], # vector store containing our file\n",
    "            },\n",
    "        ]\n",
    "    )\n",
    "    # create the string message\n",
    "    new_message = ' '.join([r.content[0].text for r in response.output if r.type == 'message'])\n",
    "\n",
    "    return new_message"
   ]
  },
  {
   "cell_type": "code",
   "execution_count": 4,
   "id": "db06cbb5",
   "metadata": {},
   "outputs": [],
   "source": [
    "response = generate_response(\"Is Thierry Doumbia a good player?\")"
   ]
  },
  {
   "cell_type": "code",
   "execution_count": 5,
   "id": "35a4281e",
   "metadata": {},
   "outputs": [
    {
     "name": "stdout",
     "output_type": "stream",
     "text": [
      "### Evaluation of Thierry Doumbia\n",
      "\n",
      "**Strengths:**\n",
      "1. **Acceleration:** Doumbia has remarkable speed, making him a significant threat to defenders. His acceleration is highlighted as a key aspect of his game, which allows him to create opportunities and exploit weaknesses in defensive setups.\n",
      "   \n",
      "2. **Potential for Development:** There is interest from higher leagues, suggesting that clubs recognize his raw pace as an asset, especially in more competitive environments like the Zandora League.\n",
      "\n",
      "**Weaknesses:**\n",
      "1. **Technical Limitations:** Despite his athleticism, Doumbia lacks technical finesse, which results in turnovers when he is pressured in tight spaces. This deficiency may limit his effectiveness, especially when facing more organized defenses.\n",
      "\n",
      "2. **Lack of Tactical Discipline:** As Doumbia is considered for moves to larger clubs, some scouts express concerns about his tactical awareness, indicating that he may need to improve in that area to succeed at a higher level.\n",
      "\n",
      "### Overall Judgment Evolution\n",
      "\n",
      "The articles on Doumbia reflect a mixed but optimistic view of his potential. Initially regarded mostly for his physical attributes, there is growing recognition that while he possesses speed, there are significant areas for improvement that could determine his long-term success in more competitive leagues.\n",
      "\n",
      "In summary, Thierry Doumbia is seen as a promising player thanks to his speed; however, his journey will require addressing his technical and tactical shortcomings to realize his full potential.\n"
     ]
    }
   ],
   "source": [
    "print(response)"
   ]
  },
  {
   "cell_type": "code",
   "execution_count": 8,
   "id": "40da679b",
   "metadata": {},
   "outputs": [],
   "source": [
    "response = generate_response(\"What aspects of the game should Marco Bianchi work on?\")"
   ]
  },
  {
   "cell_type": "code",
   "execution_count": 9,
   "id": "e0a1e432",
   "metadata": {},
   "outputs": [
    {
     "name": "stdout",
     "output_type": "stream",
     "text": [
      "Marco Bianchi has been the subject of several articles that highlight both his strengths and areas for improvement:\n",
      "\n",
      "1. **Strengths**:\n",
      "   - **Passing Accuracy and Tempo Control**: Bianchi is praised for his passing accuracy and his ability to dictate the tempo of games, making him a pivotal player for his team, Vercelli United. His style has even drawn comparisons to classic deep-lying playmakers.\n",
      "   - **Vision**: His vision on the field is regarded as impressive, allowing him to create opportunities and manage plays effectively.\n",
      "\n",
      "2. **Weaknesses**:\n",
      "   - **Defensive Work Rate**: Critics have raised concerns about Bianchi's defensive contributions. His work rate in defense is often questioned, as opponents have been able to exploit the spaces he leaves behind.\n",
      "   - **Athleticism**: Some analysts feel that Bianchi lacks the necessary athleticism to compete at the highest levels of football. This concern is particularly pertinent with suggestions that a move abroad could expose these weaknesses.\n",
      "\n",
      "3. **Evolution of Judgement**:\n",
      "   - Over time, while his technical skills and composure have been acknowledged, the consistent critique regarding his physicality and defensive commitment suggests a mixed view of his overall impact on the game. Discussions about his playing style indicate that he might thrive in possession-heavy systems but could struggle when the dynamics of play shift.\n",
      "\n",
      "In conclusion, while Bianchi exhibits exceptional playmaking abilities, addressing his defensive engagement and enhancing his athletic traits could significantly elevate his game.\n"
     ]
    }
   ],
   "source": [
    "print(response)"
   ]
  },
  {
   "cell_type": "code",
   "execution_count": null,
   "id": "5cc39b17",
   "metadata": {},
   "outputs": [],
   "source": []
  }
 ],
 "metadata": {
  "kernelspec": {
   "display_name": "venv",
   "language": "python",
   "name": "python3"
  },
  "language_info": {
   "codemirror_mode": {
    "name": "ipython",
    "version": 3
   },
   "file_extension": ".py",
   "mimetype": "text/x-python",
   "name": "python",
   "nbconvert_exporter": "python",
   "pygments_lexer": "ipython3",
   "version": "3.9.22"
  }
 },
 "nbformat": 4,
 "nbformat_minor": 5
}
