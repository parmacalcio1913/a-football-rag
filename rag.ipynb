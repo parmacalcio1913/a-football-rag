{
 "cells": [
  {
   "cell_type": "code",
   "execution_count": 1,
   "id": "8015c764",
   "metadata": {},
   "outputs": [],
   "source": [
    "from openai import OpenAI\n",
    "from dotenv import load_dotenv\n",
    "import os\n",
    "\n",
    "load_dotenv()\n",
    "OPEN_AI_API_KEY = os.getenv(\"OPEN_AI_API_KEY\")\n",
    "OPEN_AI_MODEL = os.getenv(\"OPEN_AI_MODEL\")\n",
    "\n",
    "# instantiate the openAI client\n",
    "client = OpenAI(api_key=OPEN_AI_API_KEY)"
   ]
  },
  {
   "cell_type": "markdown",
   "id": "2baf5363",
   "metadata": {},
   "source": [
    "We first need to upload the file powering our RAG in a [Vector Store](https://platform.openai.com/docs/api-reference/vector-stores)."
   ]
  },
  {
   "cell_type": "code",
   "execution_count": 2,
   "id": "398ffa8c",
   "metadata": {},
   "outputs": [],
   "source": [
    "def upload_file_to_vector_store(path):\n",
    "    # upload a file with an \"assistants\" purpose\n",
    "    file = client.files.create(file=open(path, \"rb\"), purpose=\"assistants\")\n",
    "    # create a vector store\n",
    "    vector_store = client.vector_stores.create(\n",
    "        name=\"Some Fake Football Articles\"\n",
    "    )\n",
    "    # add the file to the vector store just created\n",
    "    client.vector_stores.files.create(\n",
    "        vector_store_id=vector_store.id,\n",
    "        file_id=file.id\n",
    "    )\n",
    "\n",
    "    # return the vector store (we'll need the ID)\n",
    "    return vector_store\n",
    "\n",
    "vector_store = upload_file_to_vector_store(\"data/fake_football_articles.json\")"
   ]
  },
  {
   "cell_type": "markdown",
   "id": "7bcdb672",
   "metadata": {},
   "source": [
    "We can start interacting with our RAG, using the [Responses API](https://platform.openai.com/docs/api-reference/responses)."
   ]
  },
  {
   "cell_type": "code",
   "execution_count": 3,
   "id": "bbf89084",
   "metadata": {},
   "outputs": [],
   "source": [
    "def generate_response(prompt):\n",
    "    response = client.responses.create(\n",
    "        model=OPEN_AI_MODEL,\n",
    "        input=prompt,\n",
    "        instructions=\"You need to perform a file search of the provided document, and summarise all the articles you can find about the player provided by the user, if there's any (otherwise, simply say 'No articles on the provided player'). Focus on strengths and weaknesses, as well as the evolution of the judgement over time in case of multiple articles.\",\n",
    "        tools=[\n",
    "            {\n",
    "                \"type\": \"file_search\",\n",
    "                \"vector_store_ids\": [vector_store.id], # vector store containing our file\n",
    "            },\n",
    "        ]\n",
    "    )\n",
    "    # create the string message\n",
    "    new_message = ' '.join([r.content[0].text for r in response.output if r.type == 'message'])\n",
    "\n",
    "    return new_message"
   ]
  },
  {
   "cell_type": "code",
   "execution_count": 5,
   "id": "db06cbb5",
   "metadata": {},
   "outputs": [],
   "source": [
    "response = generate_response(\"Is Thierry Doumbia a good player?\")"
   ]
  },
  {
   "cell_type": "code",
   "execution_count": 6,
   "id": "35a4281e",
   "metadata": {},
   "outputs": [
    {
     "name": "stdout",
     "output_type": "stream",
     "text": [
      "### Overview of Thierry Doumbia's Performance and Evaluation\n",
      "\n",
      "Thierry Doumbia has recently been the subject of several articles, which highlight both his strengths and weaknesses as a player:\n",
      "\n",
      "1. **Strengths**:\n",
      "   - **Acceleration and Speed**: Doumbia is noted for his exceptional acceleration while playing for Bamako Rangers, making him a significant challenge for defenders on the field.\n",
      "   \n",
      "2. **Weaknesses**:\n",
      "   - **Technical Limitations**: While his athleticism is praised, he lacks the technical finesse required to match it, leading to frequent turnovers in tight situations.\n",
      "\n",
      "3. **Evolution of Judgement**:\n",
      "   - **Potential Growth**: There are links suggesting interest from clubs in the Zandora League, where his raw pace could be an asset. This indicates some clubs see potential in his abilities, despite the noted limitations.\n",
      "\n",
      "### Conclusion\n",
      "Overall, Thierry Doumbia is acknowledged for his speed and acceleration but is critiqued for lacking technical skills, which affects his performance in tighter situations. The evolving perspective on his potential suggests that while he has clear strengths, addressing his weaknesses would be essential for further development in more competitive leagues.\n"
     ]
    }
   ],
   "source": [
    "print(response)"
   ]
  },
  {
   "cell_type": "code",
   "execution_count": null,
   "id": "40da679b",
   "metadata": {},
   "outputs": [],
   "source": []
  }
 ],
 "metadata": {
  "kernelspec": {
   "display_name": "venv",
   "language": "python",
   "name": "python3"
  },
  "language_info": {
   "codemirror_mode": {
    "name": "ipython",
    "version": 3
   },
   "file_extension": ".py",
   "mimetype": "text/x-python",
   "name": "python",
   "nbconvert_exporter": "python",
   "pygments_lexer": "ipython3",
   "version": "3.9.22"
  }
 },
 "nbformat": 4,
 "nbformat_minor": 5
}
